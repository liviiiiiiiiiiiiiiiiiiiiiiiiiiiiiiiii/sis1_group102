{
 "cells": [
  {
   "cell_type": "code",
   "execution_count": 1,
   "metadata": {
    "id": "qjqxWfGLQq33"
   },
   "outputs": [],
   "source": [
    "from util import load_audio\n",
    "from IPython.display import Audio"
   ]
  },
  {
   "cell_type": "markdown",
   "metadata": {
    "id": "ukUllJREPzyK"
   },
   "source": [
    "## **Lab 0**\n",
    "\n",
    "The goal of the introductory lab is to gain familiarity with Python and build some basic skills that will be needed in the labs of the course. \n",
    " \n",
    "For an in-depth presentation that covers most of the Python language, consult the Python website, https://www.python.org/, starting from the tutorial  https://docs.python.org/3.8/tutorial/index.html or the Beginners Guide, https://wiki.python.org/moin/BeginnersGuide.\n",
    "\n",
    "**Basic Commands**\n",
    "\n",
    "In this lab you should first practice the concepts by following the initial examples and explanations, then experiment with them.\n",
    "\n",
    "For all these calculations it needs `numpy` to be imported."
   ]
  },
  {
   "cell_type": "code",
   "execution_count": 2,
   "metadata": {
    "id": "PwvHo8daPsau"
   },
   "outputs": [],
   "source": [
    "import numpy as np"
   ]
  },
  {
   "cell_type": "markdown",
   "metadata": {
    "id": "ZMpb8qY9P5dx"
   },
   "source": [
    "From now on any command preceded by np will be using numpy.\n",
    "\n",
    "Python can be used a calculator, as shown below:"
   ]
  },
  {
   "cell_type": "code",
   "execution_count": 3,
   "metadata": {
    "colab": {
     "base_uri": "https://localhost:8080/"
    },
    "executionInfo": {
     "elapsed": 302,
     "status": "ok",
     "timestamp": 1633333613386,
     "user": {
      "displayName": "JUAN SEBASTIÁN GÓMEZ CAÑÓN",
      "photoUrl": "https://lh3.googleusercontent.com/a/default-user=s64",
      "userId": "18286075121967442723"
     },
     "user_tz": -120
    },
    "id": "do5PPliqP8PX",
    "outputId": "7df05fbd-6aa5-48fd-850d-3caab635d2b2"
   },
   "outputs": [
    {
     "data": {
      "text/plain": [
       "7"
      ]
     },
     "execution_count": 3,
     "metadata": {},
     "output_type": "execute_result"
    }
   ],
   "source": [
    "4+3"
   ]
  },
  {
   "cell_type": "code",
   "execution_count": 4,
   "metadata": {
    "colab": {
     "base_uri": "https://localhost:8080/"
    },
    "executionInfo": {
     "elapsed": 10,
     "status": "ok",
     "timestamp": 1633333614810,
     "user": {
      "displayName": "JUAN SEBASTIÁN GÓMEZ CAÑÓN",
      "photoUrl": "https://lh3.googleusercontent.com/a/default-user=s64",
      "userId": "18286075121967442723"
     },
     "user_tz": -120
    },
    "id": "z81p8x16QDK0",
    "outputId": "8790a257-a191-4b0f-fa77-d34ba7dff4a4"
   },
   "outputs": [
    {
     "data": {
      "text/plain": [
       "-0.130395598910642"
      ]
     },
     "execution_count": 4,
     "metadata": {},
     "output_type": "execute_result"
    }
   ],
   "source": [
    "np.pi * np.pi - 10"
   ]
  },
  {
   "cell_type": "code",
   "execution_count": 5,
   "metadata": {
    "colab": {
     "base_uri": "https://localhost:8080/"
    },
    "executionInfo": {
     "elapsed": 4,
     "status": "ok",
     "timestamp": 1633333617594,
     "user": {
      "displayName": "JUAN SEBASTIÁN GÓMEZ CAÑÓN",
      "photoUrl": "https://lh3.googleusercontent.com/a/default-user=s64",
      "userId": "18286075121967442723"
     },
     "user_tz": -120
    },
    "id": "ucjbEjxXQDxd",
    "outputId": "6e24ea24-749c-4b9c-d920-b2936c637985"
   },
   "outputs": [
    {
     "data": {
      "text/plain": [
       "np.float64(0.7071067811865476)"
      ]
     },
     "execution_count": 5,
     "metadata": {},
     "output_type": "execute_result"
    }
   ],
   "source": [
    "np.sin(np.pi / 4)"
   ]
  },
  {
   "cell_type": "markdown",
   "metadata": {
    "id": "UQHJSEe2QHpM"
   },
   "source": [
    "Variable names can store values and matrices. Try the following:"
   ]
  },
  {
   "cell_type": "code",
   "execution_count": 6,
   "metadata": {
    "colab": {
     "base_uri": "https://localhost:8080/"
    },
    "executionInfo": {
     "elapsed": 499,
     "status": "ok",
     "timestamp": 1633333620469,
     "user": {
      "displayName": "JUAN SEBASTIÁN GÓMEZ CAÑÓN",
      "photoUrl": "https://lh3.googleusercontent.com/a/default-user=s64",
      "userId": "18286075121967442723"
     },
     "user_tz": -120
    },
    "id": "AP-2LzY1QJcg",
    "outputId": "036ec439-9e1e-4a89-ead8-fd127b38db65"
   },
   "outputs": [
    {
     "name": "stdout",
     "output_type": "stream",
     "text": [
      "0.8090169943749475\n"
     ]
    }
   ],
   "source": [
    "xx = np.sin(np.pi / 5)\n",
    "yy = np.sqrt(1 - xx * xx)\n",
    "print(yy)"
   ]
  },
  {
   "cell_type": "markdown",
   "metadata": {
    "id": "1eK3KFVZQLRX"
   },
   "source": [
    "Complex numbers are natural in Python. Notice that the names of some basic operations are unexpected, e.g., abs for magnitude. Try the following:"
   ]
  },
  {
   "cell_type": "code",
   "execution_count": 7,
   "metadata": {
    "colab": {
     "base_uri": "https://localhost:8080/"
    },
    "executionInfo": {
     "elapsed": 325,
     "status": "ok",
     "timestamp": 1633333622933,
     "user": {
      "displayName": "JUAN SEBASTIÁN GÓMEZ CAÑÓN",
      "photoUrl": "https://lh3.googleusercontent.com/a/default-user=s64",
      "userId": "18286075121967442723"
     },
     "user_tz": -120
    },
    "id": "zKE2ivrBQNNd",
    "outputId": "8a6db66b-4dc7-4194-dfcf-44f54f91dd85"
   },
   "outputs": [
    {
     "data": {
      "text/plain": [
       "(3-4j)"
      ]
     },
     "execution_count": 7,
     "metadata": {},
     "output_type": "execute_result"
    }
   ],
   "source": [
    "zz = 3 + 4j\n",
    "zz.conjugate()"
   ]
  },
  {
   "cell_type": "code",
   "execution_count": 8,
   "metadata": {
    "colab": {
     "base_uri": "https://localhost:8080/"
    },
    "executionInfo": {
     "elapsed": 305,
     "status": "ok",
     "timestamp": 1633333625306,
     "user": {
      "displayName": "JUAN SEBASTIÁN GÓMEZ CAÑÓN",
      "photoUrl": "https://lh3.googleusercontent.com/a/default-user=s64",
      "userId": "18286075121967442723"
     },
     "user_tz": -120
    },
    "id": "MBK5f-Z_QO1s",
    "outputId": "08620a4a-ca55-46ef-d1ba-91538b959426"
   },
   "outputs": [
    {
     "data": {
      "text/plain": [
       "np.float64(5.0)"
      ]
     },
     "execution_count": 8,
     "metadata": {},
     "output_type": "execute_result"
    }
   ],
   "source": [
    "np.abs(zz)"
   ]
  },
  {
   "cell_type": "code",
   "execution_count": 9,
   "metadata": {
    "colab": {
     "base_uri": "https://localhost:8080/"
    },
    "executionInfo": {
     "elapsed": 4,
     "status": "ok",
     "timestamp": 1633333627155,
     "user": {
      "displayName": "JUAN SEBASTIÁN GÓMEZ CAÑÓN",
      "photoUrl": "https://lh3.googleusercontent.com/a/default-user=s64",
      "userId": "18286075121967442723"
     },
     "user_tz": -120
    },
    "id": "K7DZ9ZruQR7s",
    "outputId": "3af08912-c8b9-4862-93d0-f45a6d070589"
   },
   "outputs": [
    {
     "data": {
      "text/plain": [
       "np.float64(0.9272952180016122)"
      ]
     },
     "execution_count": 9,
     "metadata": {},
     "output_type": "execute_result"
    }
   ],
   "source": [
    "np.angle(zz)"
   ]
  },
  {
   "cell_type": "code",
   "execution_count": 10,
   "metadata": {
    "colab": {
     "base_uri": "https://localhost:8080/"
    },
    "executionInfo": {
     "elapsed": 8,
     "status": "ok",
     "timestamp": 1633333629201,
     "user": {
      "displayName": "JUAN SEBASTIÁN GÓMEZ CAÑÓN",
      "photoUrl": "https://lh3.googleusercontent.com/a/default-user=s64",
      "userId": "18286075121967442723"
     },
     "user_tz": -120
    },
    "id": "drMOGNRjQTOw",
    "outputId": "46e17122-5cfe-484a-c174-db73c59e0b76"
   },
   "outputs": [
    {
     "data": {
      "text/plain": [
       "3.0"
      ]
     },
     "execution_count": 10,
     "metadata": {},
     "output_type": "execute_result"
    }
   ],
   "source": [
    "zz.real"
   ]
  },
  {
   "cell_type": "code",
   "execution_count": 11,
   "metadata": {
    "colab": {
     "base_uri": "https://localhost:8080/"
    },
    "executionInfo": {
     "elapsed": 10,
     "status": "ok",
     "timestamp": 1633333631024,
     "user": {
      "displayName": "JUAN SEBASTIÁN GÓMEZ CAÑÓN",
      "photoUrl": "https://lh3.googleusercontent.com/a/default-user=s64",
      "userId": "18286075121967442723"
     },
     "user_tz": -120
    },
    "id": "SHWlGA4DQUVw",
    "outputId": "13fb3def-5408-4421-83ae-043c1132ef78"
   },
   "outputs": [
    {
     "data": {
      "text/plain": [
       "4.0"
      ]
     },
     "execution_count": 11,
     "metadata": {},
     "output_type": "execute_result"
    }
   ],
   "source": [
    "zz.imag"
   ]
  },
  {
   "cell_type": "code",
   "execution_count": 12,
   "metadata": {
    "colab": {
     "base_uri": "https://localhost:8080/"
    },
    "executionInfo": {
     "elapsed": 8,
     "status": "ok",
     "timestamp": 1633333632775,
     "user": {
      "displayName": "JUAN SEBASTIÁN GÓMEZ CAÑÓN",
      "photoUrl": "https://lh3.googleusercontent.com/a/default-user=s64",
      "userId": "18286075121967442723"
     },
     "user_tz": -120
    },
    "id": "KI4TllKmQVz8",
    "outputId": "d2ac0b0b-360b-4620-d51d-d00841d2acb4"
   },
   "outputs": [
    {
     "data": {
      "text/plain": [
       "np.complex128(0.7071067811865476+0.7071067811865476j)"
      ]
     },
     "execution_count": 12,
     "metadata": {},
     "output_type": "execute_result"
    }
   ],
   "source": [
    "np.exp(1j* np.pi/4)"
   ]
  },
  {
   "cell_type": "markdown",
   "metadata": {
    "id": "G4mFLx-tQYRx"
   },
   "source": [
    "**Arrays**\n",
    "\n",
    "In the labs we will use numpy arrays, thus to create and process arrays we will use the functions from numpy. Numpy tutorial: https://docs.scipy.org/doc/numpy-dev/user/quickstart.html\n",
    "\n",
    "(a) Make sure that you understand the array notation. Try and understand the following commands"
   ]
  },
  {
   "cell_type": "code",
   "execution_count": 13,
   "metadata": {
    "colab": {
     "base_uri": "https://localhost:8080/"
    },
    "executionInfo": {
     "elapsed": 8,
     "status": "ok",
     "timestamp": 1633333635282,
     "user": {
      "displayName": "JUAN SEBASTIÁN GÓMEZ CAÑÓN",
      "photoUrl": "https://lh3.googleusercontent.com/a/default-user=s64",
      "userId": "18286075121967442723"
     },
     "user_tz": -120
    },
    "id": "owxd6HtRQadt",
    "outputId": "4de21011-5a72-48b7-9e73-c8712759716b"
   },
   "outputs": [
    {
     "name": "stdout",
     "output_type": "stream",
     "text": [
      "[ 0.          1.25663706  2.51327412  3.76991118  5.02654825  6.28318531\n",
      "  7.53982237  8.79645943 10.05309649 11.30973355]\n"
     ]
    }
   ],
   "source": [
    "a = np.array([0,1,2,3])\n",
    "b = np.zeros(10)\n",
    "c = np.arange(2, 4, .2)\n",
    "d = 2 * np.pi * np.arange(0, 2, .2)\n",
    "print(d)"
   ]
  },
  {
   "cell_type": "markdown",
   "metadata": {
    "id": "UopEuTO0Qc2Y"
   },
   "source": [
    "*One*-dimensional arrays can be indexed, sliced and iterated over, like:"
   ]
  },
  {
   "cell_type": "code",
   "execution_count": 14,
   "metadata": {
    "colab": {
     "base_uri": "https://localhost:8080/"
    },
    "executionInfo": {
     "elapsed": 306,
     "status": "ok",
     "timestamp": 1633333638198,
     "user": {
      "displayName": "JUAN SEBASTIÁN GÓMEZ CAÑÓN",
      "photoUrl": "https://lh3.googleusercontent.com/a/default-user=s64",
      "userId": "18286075121967442723"
     },
     "user_tz": -120
    },
    "id": "NVRHxxoZQeGj",
    "outputId": "2582d4a6-9c4c-446f-a52a-33e164c70246"
   },
   "outputs": [
    {
     "data": {
      "text/plain": [
       "np.int64(8)"
      ]
     },
     "execution_count": 14,
     "metadata": {},
     "output_type": "execute_result"
    }
   ],
   "source": [
    "a = np.arange(10)**3\n",
    "a[2]"
   ]
  },
  {
   "cell_type": "code",
   "execution_count": 15,
   "metadata": {
    "colab": {
     "base_uri": "https://localhost:8080/"
    },
    "executionInfo": {
     "elapsed": 539,
     "status": "ok",
     "timestamp": 1633333641706,
     "user": {
      "displayName": "JUAN SEBASTIÁN GÓMEZ CAÑÓN",
      "photoUrl": "https://lh3.googleusercontent.com/a/default-user=s64",
      "userId": "18286075121967442723"
     },
     "user_tz": -120
    },
    "id": "b0XWMw2zQfJo",
    "outputId": "88a3c236-873b-48d8-c1ca-856096523f9a"
   },
   "outputs": [
    {
     "data": {
      "text/plain": [
       "array([ 8, 27, 64])"
      ]
     },
     "execution_count": 15,
     "metadata": {},
     "output_type": "execute_result"
    }
   ],
   "source": [
    "a[2:5]"
   ]
  },
  {
   "cell_type": "code",
   "execution_count": 16,
   "metadata": {
    "colab": {
     "base_uri": "https://localhost:8080/"
    },
    "executionInfo": {
     "elapsed": 8,
     "status": "ok",
     "timestamp": 1633333643804,
     "user": {
      "displayName": "JUAN SEBASTIÁN GÓMEZ CAÑÓN",
      "photoUrl": "https://lh3.googleusercontent.com/a/default-user=s64",
      "userId": "18286075121967442723"
     },
     "user_tz": -120
    },
    "id": "VVaM2D5tQgan",
    "outputId": "e14ece5c-7093-40a9-8ca3-ffbead0a0ad6"
   },
   "outputs": [
    {
     "data": {
      "text/plain": [
       "10"
      ]
     },
     "execution_count": 16,
     "metadata": {},
     "output_type": "execute_result"
    }
   ],
   "source": [
    "a.size"
   ]
  },
  {
   "cell_type": "markdown",
   "metadata": {
    "id": "bV64sCJFQl5j"
   },
   "source": [
    "**Sinusoids**\n",
    "\n",
    "We can use numpy to create a sinewave"
   ]
  },
  {
   "cell_type": "code",
   "execution_count": 17,
   "metadata": {
    "id": "qEt2weMtQnZp"
   },
   "outputs": [],
   "source": [
    "A = 0.8\n",
    "f0 = 300.0\n",
    "phi = np.pi/2\n",
    "fs = 44100\n",
    "t = np.arange(0, .1, 1.0/fs)\n",
    "x = A * np.cos(2*np.pi*f0*t + phi)"
   ]
  },
  {
   "cell_type": "markdown",
   "metadata": {
    "id": "6pQHxsQrQo1A"
   },
   "source": [
    "We provide some auxilary functions to the signals and read/write audio files:"
   ]
  },
  {
   "cell_type": "code",
   "execution_count": 18,
   "metadata": {
    "id": "TLneHef_Q7ep"
   },
   "outputs": [],
   "source": [
    "from util import load_audio, save_audio, plot_signals"
   ]
  },
  {
   "cell_type": "markdown",
   "metadata": {
    "id": "NFjStotCQ_Bz"
   },
   "source": [
    "For instance, we can use plot_signals to plot the sinwave created before:"
   ]
  },
  {
   "cell_type": "code",
   "execution_count": 19,
   "metadata": {
    "colab": {
     "base_uri": "https://localhost:8080/",
     "height": 541
    },
    "executionInfo": {
     "elapsed": 1535,
     "status": "ok",
     "timestamp": 1633333653691,
     "user": {
      "displayName": "JUAN SEBASTIÁN GÓMEZ CAÑÓN",
      "photoUrl": "https://lh3.googleusercontent.com/a/default-user=s64",
      "userId": "18286075121967442723"
     },
     "user_tz": -120
    },
    "id": "ZoqailaeRAoO",
    "outputId": "c10c326a-2821-4ecf-e1ab-1676003a7c5d"
   },
   "outputs": [
    {
     "data": {
      "application/vnd.plotly.v1+json": {
       "config": {
        "linkText": "Export to plot.ly",
        "plotlyServerURL": "https://plot.ly",
        "showLink": false
       },
       "data": [
        {
         "line": {
          "color": "#1f77b4",
          "shape": "linear"
         },
         "mode": "lines",
         "name": "audio signal 0",
         "type": "scatter",
         "x": {
          "bdata": "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",
          "dtype": "f8"
         },
         "y": {
          "bdata": "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",
          "dtype": "f8"
         }
        }
       ],
       "layout": {
        "template": {
         "data": {
          "bar": [
           {
            "error_x": {
             "color": "#2a3f5f"
            },
            "error_y": {
             "color": "#2a3f5f"
            },
            "marker": {
             "line": {
              "color": "#E5ECF6",
              "width": 0.5
             },
             "pattern": {
              "fillmode": "overlay",
              "size": 10,
              "solidity": 0.2
             }
            },
            "type": "bar"
           }
          ],
          "barpolar": [
           {
            "marker": {
             "line": {
              "color": "#E5ECF6",
              "width": 0.5
             },
             "pattern": {
              "fillmode": "overlay",
              "size": 10,
              "solidity": 0.2
             }
            },
            "type": "barpolar"
           }
          ],
          "carpet": [
           {
            "aaxis": {
             "endlinecolor": "#2a3f5f",
             "gridcolor": "white",
             "linecolor": "white",
             "minorgridcolor": "white",
             "startlinecolor": "#2a3f5f"
            },
            "baxis": {
             "endlinecolor": "#2a3f5f",
             "gridcolor": "white",
             "linecolor": "white",
             "minorgridcolor": "white",
             "startlinecolor": "#2a3f5f"
            },
            "type": "carpet"
           }
          ],
          "choropleth": [
           {
            "colorbar": {
             "outlinewidth": 0,
             "ticks": ""
            },
            "type": "choropleth"
           }
          ],
          "contour": [
           {
            "colorbar": {
             "outlinewidth": 0,
             "ticks": ""
            },
            "colorscale": [
             [
              0,
              "#0d0887"
             ],
             [
              0.1111111111111111,
              "#46039f"
             ],
             [
              0.2222222222222222,
              "#7201a8"
             ],
             [
              0.3333333333333333,
              "#9c179e"
             ],
             [
              0.4444444444444444,
              "#bd3786"
             ],
             [
              0.5555555555555556,
              "#d8576b"
             ],
             [
              0.6666666666666666,
              "#ed7953"
             ],
             [
              0.7777777777777778,
              "#fb9f3a"
             ],
             [
              0.8888888888888888,
              "#fdca26"
             ],
             [
              1,
              "#f0f921"
             ]
            ],
            "type": "contour"
           }
          ],
          "contourcarpet": [
           {
            "colorbar": {
             "outlinewidth": 0,
             "ticks": ""
            },
            "type": "contourcarpet"
           }
          ],
          "heatmap": [
           {
            "colorbar": {
             "outlinewidth": 0,
             "ticks": ""
            },
            "colorscale": [
             [
              0,
              "#0d0887"
             ],
             [
              0.1111111111111111,
              "#46039f"
             ],
             [
              0.2222222222222222,
              "#7201a8"
             ],
             [
              0.3333333333333333,
              "#9c179e"
             ],
             [
              0.4444444444444444,
              "#bd3786"
             ],
             [
              0.5555555555555556,
              "#d8576b"
             ],
             [
              0.6666666666666666,
              "#ed7953"
             ],
             [
              0.7777777777777778,
              "#fb9f3a"
             ],
             [
              0.8888888888888888,
              "#fdca26"
             ],
             [
              1,
              "#f0f921"
             ]
            ],
            "type": "heatmap"
           }
          ],
          "histogram": [
           {
            "marker": {
             "pattern": {
              "fillmode": "overlay",
              "size": 10,
              "solidity": 0.2
             }
            },
            "type": "histogram"
           }
          ],
          "histogram2d": [
           {
            "colorbar": {
             "outlinewidth": 0,
             "ticks": ""
            },
            "colorscale": [
             [
              0,
              "#0d0887"
             ],
             [
              0.1111111111111111,
              "#46039f"
             ],
             [
              0.2222222222222222,
              "#7201a8"
             ],
             [
              0.3333333333333333,
              "#9c179e"
             ],
             [
              0.4444444444444444,
              "#bd3786"
             ],
             [
              0.5555555555555556,
              "#d8576b"
             ],
             [
              0.6666666666666666,
              "#ed7953"
             ],
             [
              0.7777777777777778,
              "#fb9f3a"
             ],
             [
              0.8888888888888888,
              "#fdca26"
             ],
             [
              1,
              "#f0f921"
             ]
            ],
            "type": "histogram2d"
           }
          ],
          "histogram2dcontour": [
           {
            "colorbar": {
             "outlinewidth": 0,
             "ticks": ""
            },
            "colorscale": [
             [
              0,
              "#0d0887"
             ],
             [
              0.1111111111111111,
              "#46039f"
             ],
             [
              0.2222222222222222,
              "#7201a8"
             ],
             [
              0.3333333333333333,
              "#9c179e"
             ],
             [
              0.4444444444444444,
              "#bd3786"
             ],
             [
              0.5555555555555556,
              "#d8576b"
             ],
             [
              0.6666666666666666,
              "#ed7953"
             ],
             [
              0.7777777777777778,
              "#fb9f3a"
             ],
             [
              0.8888888888888888,
              "#fdca26"
             ],
             [
              1,
              "#f0f921"
             ]
            ],
            "type": "histogram2dcontour"
           }
          ],
          "mesh3d": [
           {
            "colorbar": {
             "outlinewidth": 0,
             "ticks": ""
            },
            "type": "mesh3d"
           }
          ],
          "parcoords": [
           {
            "line": {
             "colorbar": {
              "outlinewidth": 0,
              "ticks": ""
             }
            },
            "type": "parcoords"
           }
          ],
          "pie": [
           {
            "automargin": true,
            "type": "pie"
           }
          ],
          "scatter": [
           {
            "fillpattern": {
             "fillmode": "overlay",
             "size": 10,
             "solidity": 0.2
            },
            "type": "scatter"
           }
          ],
          "scatter3d": [
           {
            "line": {
             "colorbar": {
              "outlinewidth": 0,
              "ticks": ""
             }
            },
            "marker": {
             "colorbar": {
              "outlinewidth": 0,
              "ticks": ""
             }
            },
            "type": "scatter3d"
           }
          ],
          "scattercarpet": [
           {
            "marker": {
             "colorbar": {
              "outlinewidth": 0,
              "ticks": ""
             }
            },
            "type": "scattercarpet"
           }
          ],
          "scattergeo": [
           {
            "marker": {
             "colorbar": {
              "outlinewidth": 0,
              "ticks": ""
             }
            },
            "type": "scattergeo"
           }
          ],
          "scattergl": [
           {
            "marker": {
             "colorbar": {
              "outlinewidth": 0,
              "ticks": ""
             }
            },
            "type": "scattergl"
           }
          ],
          "scattermap": [
           {
            "marker": {
             "colorbar": {
              "outlinewidth": 0,
              "ticks": ""
             }
            },
            "type": "scattermap"
           }
          ],
          "scattermapbox": [
           {
            "marker": {
             "colorbar": {
              "outlinewidth": 0,
              "ticks": ""
             }
            },
            "type": "scattermapbox"
           }
          ],
          "scatterpolar": [
           {
            "marker": {
             "colorbar": {
              "outlinewidth": 0,
              "ticks": ""
             }
            },
            "type": "scatterpolar"
           }
          ],
          "scatterpolargl": [
           {
            "marker": {
             "colorbar": {
              "outlinewidth": 0,
              "ticks": ""
             }
            },
            "type": "scatterpolargl"
           }
          ],
          "scatterternary": [
           {
            "marker": {
             "colorbar": {
              "outlinewidth": 0,
              "ticks": ""
             }
            },
            "type": "scatterternary"
           }
          ],
          "surface": [
           {
            "colorbar": {
             "outlinewidth": 0,
             "ticks": ""
            },
            "colorscale": [
             [
              0,
              "#0d0887"
             ],
             [
              0.1111111111111111,
              "#46039f"
             ],
             [
              0.2222222222222222,
              "#7201a8"
             ],
             [
              0.3333333333333333,
              "#9c179e"
             ],
             [
              0.4444444444444444,
              "#bd3786"
             ],
             [
              0.5555555555555556,
              "#d8576b"
             ],
             [
              0.6666666666666666,
              "#ed7953"
             ],
             [
              0.7777777777777778,
              "#fb9f3a"
             ],
             [
              0.8888888888888888,
              "#fdca26"
             ],
             [
              1,
              "#f0f921"
             ]
            ],
            "type": "surface"
           }
          ],
          "table": [
           {
            "cells": {
             "fill": {
              "color": "#EBF0F8"
             },
             "line": {
              "color": "white"
             }
            },
            "header": {
             "fill": {
              "color": "#C8D4E3"
             },
             "line": {
              "color": "white"
             }
            },
            "type": "table"
           }
          ]
         },
         "layout": {
          "annotationdefaults": {
           "arrowcolor": "#2a3f5f",
           "arrowhead": 0,
           "arrowwidth": 1
          },
          "autotypenumbers": "strict",
          "coloraxis": {
           "colorbar": {
            "outlinewidth": 0,
            "ticks": ""
           }
          },
          "colorscale": {
           "diverging": [
            [
             0,
             "#8e0152"
            ],
            [
             0.1,
             "#c51b7d"
            ],
            [
             0.2,
             "#de77ae"
            ],
            [
             0.3,
             "#f1b6da"
            ],
            [
             0.4,
             "#fde0ef"
            ],
            [
             0.5,
             "#f7f7f7"
            ],
            [
             0.6,
             "#e6f5d0"
            ],
            [
             0.7,
             "#b8e186"
            ],
            [
             0.8,
             "#7fbc41"
            ],
            [
             0.9,
             "#4d9221"
            ],
            [
             1,
             "#276419"
            ]
           ],
           "sequential": [
            [
             0,
             "#0d0887"
            ],
            [
             0.1111111111111111,
             "#46039f"
            ],
            [
             0.2222222222222222,
             "#7201a8"
            ],
            [
             0.3333333333333333,
             "#9c179e"
            ],
            [
             0.4444444444444444,
             "#bd3786"
            ],
            [
             0.5555555555555556,
             "#d8576b"
            ],
            [
             0.6666666666666666,
             "#ed7953"
            ],
            [
             0.7777777777777778,
             "#fb9f3a"
            ],
            [
             0.8888888888888888,
             "#fdca26"
            ],
            [
             1,
             "#f0f921"
            ]
           ],
           "sequentialminus": [
            [
             0,
             "#0d0887"
            ],
            [
             0.1111111111111111,
             "#46039f"
            ],
            [
             0.2222222222222222,
             "#7201a8"
            ],
            [
             0.3333333333333333,
             "#9c179e"
            ],
            [
             0.4444444444444444,
             "#bd3786"
            ],
            [
             0.5555555555555556,
             "#d8576b"
            ],
            [
             0.6666666666666666,
             "#ed7953"
            ],
            [
             0.7777777777777778,
             "#fb9f3a"
            ],
            [
             0.8888888888888888,
             "#fdca26"
            ],
            [
             1,
             "#f0f921"
            ]
           ]
          },
          "colorway": [
           "#636efa",
           "#EF553B",
           "#00cc96",
           "#ab63fa",
           "#FFA15A",
           "#19d3f3",
           "#FF6692",
           "#B6E880",
           "#FF97FF",
           "#FECB52"
          ],
          "font": {
           "color": "#2a3f5f"
          },
          "geo": {
           "bgcolor": "white",
           "lakecolor": "white",
           "landcolor": "#E5ECF6",
           "showlakes": true,
           "showland": true,
           "subunitcolor": "white"
          },
          "hoverlabel": {
           "align": "left"
          },
          "hovermode": "closest",
          "mapbox": {
           "style": "light"
          },
          "paper_bgcolor": "white",
          "plot_bgcolor": "#E5ECF6",
          "polar": {
           "angularaxis": {
            "gridcolor": "white",
            "linecolor": "white",
            "ticks": ""
           },
           "bgcolor": "#E5ECF6",
           "radialaxis": {
            "gridcolor": "white",
            "linecolor": "white",
            "ticks": ""
           }
          },
          "scene": {
           "xaxis": {
            "backgroundcolor": "#E5ECF6",
            "gridcolor": "white",
            "gridwidth": 2,
            "linecolor": "white",
            "showbackground": true,
            "ticks": "",
            "zerolinecolor": "white"
           },
           "yaxis": {
            "backgroundcolor": "#E5ECF6",
            "gridcolor": "white",
            "gridwidth": 2,
            "linecolor": "white",
            "showbackground": true,
            "ticks": "",
            "zerolinecolor": "white"
           },
           "zaxis": {
            "backgroundcolor": "#E5ECF6",
            "gridcolor": "white",
            "gridwidth": 2,
            "linecolor": "white",
            "showbackground": true,
            "ticks": "",
            "zerolinecolor": "white"
           }
          },
          "shapedefaults": {
           "line": {
            "color": "#2a3f5f"
           }
          },
          "ternary": {
           "aaxis": {
            "gridcolor": "white",
            "linecolor": "white",
            "ticks": ""
           },
           "baxis": {
            "gridcolor": "white",
            "linecolor": "white",
            "ticks": ""
           },
           "bgcolor": "#E5ECF6",
           "caxis": {
            "gridcolor": "white",
            "linecolor": "white",
            "ticks": ""
           }
          },
          "title": {
           "x": 0.05
          },
          "xaxis": {
           "automargin": true,
           "gridcolor": "white",
           "linecolor": "white",
           "ticks": "",
           "title": {
            "standoff": 15
           },
           "zerolinecolor": "white",
           "zerolinewidth": 2
          },
          "yaxis": {
           "automargin": true,
           "gridcolor": "white",
           "linecolor": "white",
           "ticks": "",
           "title": {
            "standoff": 15
           },
           "zerolinecolor": "white",
           "zerolinewidth": 2
          }
         }
        }
       }
      }
     },
     "metadata": {},
     "output_type": "display_data"
    }
   ],
   "source": [
    "plot_signals(x, fs)"
   ]
  },
  {
   "cell_type": "markdown",
   "metadata": {
    "id": "qHZaZ8-QRIde"
   },
   "source": [
    "This function also has some optional arguments to select the start and end time (in seconds)."
   ]
  },
  {
   "cell_type": "code",
   "execution_count": 20,
   "metadata": {
    "colab": {
     "base_uri": "https://localhost:8080/",
     "height": 541
    },
    "executionInfo": {
     "elapsed": 1050,
     "status": "ok",
     "timestamp": 1633333658734,
     "user": {
      "displayName": "JUAN SEBASTIÁN GÓMEZ CAÑÓN",
      "photoUrl": "https://lh3.googleusercontent.com/a/default-user=s64",
      "userId": "18286075121967442723"
     },
     "user_tz": -120
    },
    "id": "vykUkUkQRB5O",
    "outputId": "bc3b564f-943a-4bc7-e774-5407257d34ad"
   },
   "outputs": [
    {
     "data": {
      "application/vnd.plotly.v1+json": {
       "config": {
        "linkText": "Export to plot.ly",
        "plotlyServerURL": "https://plot.ly",
        "showLink": false
       },
       "data": [
        {
         "line": {
          "color": "#1f77b4",
          "shape": "linear"
         },
         "mode": "lines",
         "name": "audio signal 0",
         "type": "scatter",
         "x": {
          "bdata": "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",
          "dtype": "f8"
         },
         "y": {
          "bdata": "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",
          "dtype": "f8"
         }
        }
       ],
       "layout": {
        "template": {
         "data": {
          "bar": [
           {
            "error_x": {
             "color": "#2a3f5f"
            },
            "error_y": {
             "color": "#2a3f5f"
            },
            "marker": {
             "line": {
              "color": "#E5ECF6",
              "width": 0.5
             },
             "pattern": {
              "fillmode": "overlay",
              "size": 10,
              "solidity": 0.2
             }
            },
            "type": "bar"
           }
          ],
          "barpolar": [
           {
            "marker": {
             "line": {
              "color": "#E5ECF6",
              "width": 0.5
             },
             "pattern": {
              "fillmode": "overlay",
              "size": 10,
              "solidity": 0.2
             }
            },
            "type": "barpolar"
           }
          ],
          "carpet": [
           {
            "aaxis": {
             "endlinecolor": "#2a3f5f",
             "gridcolor": "white",
             "linecolor": "white",
             "minorgridcolor": "white",
             "startlinecolor": "#2a3f5f"
            },
            "baxis": {
             "endlinecolor": "#2a3f5f",
             "gridcolor": "white",
             "linecolor": "white",
             "minorgridcolor": "white",
             "startlinecolor": "#2a3f5f"
            },
            "type": "carpet"
           }
          ],
          "choropleth": [
           {
            "colorbar": {
             "outlinewidth": 0,
             "ticks": ""
            },
            "type": "choropleth"
           }
          ],
          "contour": [
           {
            "colorbar": {
             "outlinewidth": 0,
             "ticks": ""
            },
            "colorscale": [
             [
              0,
              "#0d0887"
             ],
             [
              0.1111111111111111,
              "#46039f"
             ],
             [
              0.2222222222222222,
              "#7201a8"
             ],
             [
              0.3333333333333333,
              "#9c179e"
             ],
             [
              0.4444444444444444,
              "#bd3786"
             ],
             [
              0.5555555555555556,
              "#d8576b"
             ],
             [
              0.6666666666666666,
              "#ed7953"
             ],
             [
              0.7777777777777778,
              "#fb9f3a"
             ],
             [
              0.8888888888888888,
              "#fdca26"
             ],
             [
              1,
              "#f0f921"
             ]
            ],
            "type": "contour"
           }
          ],
          "contourcarpet": [
           {
            "colorbar": {
             "outlinewidth": 0,
             "ticks": ""
            },
            "type": "contourcarpet"
           }
          ],
          "heatmap": [
           {
            "colorbar": {
             "outlinewidth": 0,
             "ticks": ""
            },
            "colorscale": [
             [
              0,
              "#0d0887"
             ],
             [
              0.1111111111111111,
              "#46039f"
             ],
             [
              0.2222222222222222,
              "#7201a8"
             ],
             [
              0.3333333333333333,
              "#9c179e"
             ],
             [
              0.4444444444444444,
              "#bd3786"
             ],
             [
              0.5555555555555556,
              "#d8576b"
             ],
             [
              0.6666666666666666,
              "#ed7953"
             ],
             [
              0.7777777777777778,
              "#fb9f3a"
             ],
             [
              0.8888888888888888,
              "#fdca26"
             ],
             [
              1,
              "#f0f921"
             ]
            ],
            "type": "heatmap"
           }
          ],
          "histogram": [
           {
            "marker": {
             "pattern": {
              "fillmode": "overlay",
              "size": 10,
              "solidity": 0.2
             }
            },
            "type": "histogram"
           }
          ],
          "histogram2d": [
           {
            "colorbar": {
             "outlinewidth": 0,
             "ticks": ""
            },
            "colorscale": [
             [
              0,
              "#0d0887"
             ],
             [
              0.1111111111111111,
              "#46039f"
             ],
             [
              0.2222222222222222,
              "#7201a8"
             ],
             [
              0.3333333333333333,
              "#9c179e"
             ],
             [
              0.4444444444444444,
              "#bd3786"
             ],
             [
              0.5555555555555556,
              "#d8576b"
             ],
             [
              0.6666666666666666,
              "#ed7953"
             ],
             [
              0.7777777777777778,
              "#fb9f3a"
             ],
             [
              0.8888888888888888,
              "#fdca26"
             ],
             [
              1,
              "#f0f921"
             ]
            ],
            "type": "histogram2d"
           }
          ],
          "histogram2dcontour": [
           {
            "colorbar": {
             "outlinewidth": 0,
             "ticks": ""
            },
            "colorscale": [
             [
              0,
              "#0d0887"
             ],
             [
              0.1111111111111111,
              "#46039f"
             ],
             [
              0.2222222222222222,
              "#7201a8"
             ],
             [
              0.3333333333333333,
              "#9c179e"
             ],
             [
              0.4444444444444444,
              "#bd3786"
             ],
             [
              0.5555555555555556,
              "#d8576b"
             ],
             [
              0.6666666666666666,
              "#ed7953"
             ],
             [
              0.7777777777777778,
              "#fb9f3a"
             ],
             [
              0.8888888888888888,
              "#fdca26"
             ],
             [
              1,
              "#f0f921"
             ]
            ],
            "type": "histogram2dcontour"
           }
          ],
          "mesh3d": [
           {
            "colorbar": {
             "outlinewidth": 0,
             "ticks": ""
            },
            "type": "mesh3d"
           }
          ],
          "parcoords": [
           {
            "line": {
             "colorbar": {
              "outlinewidth": 0,
              "ticks": ""
             }
            },
            "type": "parcoords"
           }
          ],
          "pie": [
           {
            "automargin": true,
            "type": "pie"
           }
          ],
          "scatter": [
           {
            "fillpattern": {
             "fillmode": "overlay",
             "size": 10,
             "solidity": 0.2
            },
            "type": "scatter"
           }
          ],
          "scatter3d": [
           {
            "line": {
             "colorbar": {
              "outlinewidth": 0,
              "ticks": ""
             }
            },
            "marker": {
             "colorbar": {
              "outlinewidth": 0,
              "ticks": ""
             }
            },
            "type": "scatter3d"
           }
          ],
          "scattercarpet": [
           {
            "marker": {
             "colorbar": {
              "outlinewidth": 0,
              "ticks": ""
             }
            },
            "type": "scattercarpet"
           }
          ],
          "scattergeo": [
           {
            "marker": {
             "colorbar": {
              "outlinewidth": 0,
              "ticks": ""
             }
            },
            "type": "scattergeo"
           }
          ],
          "scattergl": [
           {
            "marker": {
             "colorbar": {
              "outlinewidth": 0,
              "ticks": ""
             }
            },
            "type": "scattergl"
           }
          ],
          "scattermap": [
           {
            "marker": {
             "colorbar": {
              "outlinewidth": 0,
              "ticks": ""
             }
            },
            "type": "scattermap"
           }
          ],
          "scattermapbox": [
           {
            "marker": {
             "colorbar": {
              "outlinewidth": 0,
              "ticks": ""
             }
            },
            "type": "scattermapbox"
           }
          ],
          "scatterpolar": [
           {
            "marker": {
             "colorbar": {
              "outlinewidth": 0,
              "ticks": ""
             }
            },
            "type": "scatterpolar"
           }
          ],
          "scatterpolargl": [
           {
            "marker": {
             "colorbar": {
              "outlinewidth": 0,
              "ticks": ""
             }
            },
            "type": "scatterpolargl"
           }
          ],
          "scatterternary": [
           {
            "marker": {
             "colorbar": {
              "outlinewidth": 0,
              "ticks": ""
             }
            },
            "type": "scatterternary"
           }
          ],
          "surface": [
           {
            "colorbar": {
             "outlinewidth": 0,
             "ticks": ""
            },
            "colorscale": [
             [
              0,
              "#0d0887"
             ],
             [
              0.1111111111111111,
              "#46039f"
             ],
             [
              0.2222222222222222,
              "#7201a8"
             ],
             [
              0.3333333333333333,
              "#9c179e"
             ],
             [
              0.4444444444444444,
              "#bd3786"
             ],
             [
              0.5555555555555556,
              "#d8576b"
             ],
             [
              0.6666666666666666,
              "#ed7953"
             ],
             [
              0.7777777777777778,
              "#fb9f3a"
             ],
             [
              0.8888888888888888,
              "#fdca26"
             ],
             [
              1,
              "#f0f921"
             ]
            ],
            "type": "surface"
           }
          ],
          "table": [
           {
            "cells": {
             "fill": {
              "color": "#EBF0F8"
             },
             "line": {
              "color": "white"
             }
            },
            "header": {
             "fill": {
              "color": "#C8D4E3"
             },
             "line": {
              "color": "white"
             }
            },
            "type": "table"
           }
          ]
         },
         "layout": {
          "annotationdefaults": {
           "arrowcolor": "#2a3f5f",
           "arrowhead": 0,
           "arrowwidth": 1
          },
          "autotypenumbers": "strict",
          "coloraxis": {
           "colorbar": {
            "outlinewidth": 0,
            "ticks": ""
           }
          },
          "colorscale": {
           "diverging": [
            [
             0,
             "#8e0152"
            ],
            [
             0.1,
             "#c51b7d"
            ],
            [
             0.2,
             "#de77ae"
            ],
            [
             0.3,
             "#f1b6da"
            ],
            [
             0.4,
             "#fde0ef"
            ],
            [
             0.5,
             "#f7f7f7"
            ],
            [
             0.6,
             "#e6f5d0"
            ],
            [
             0.7,
             "#b8e186"
            ],
            [
             0.8,
             "#7fbc41"
            ],
            [
             0.9,
             "#4d9221"
            ],
            [
             1,
             "#276419"
            ]
           ],
           "sequential": [
            [
             0,
             "#0d0887"
            ],
            [
             0.1111111111111111,
             "#46039f"
            ],
            [
             0.2222222222222222,
             "#7201a8"
            ],
            [
             0.3333333333333333,
             "#9c179e"
            ],
            [
             0.4444444444444444,
             "#bd3786"
            ],
            [
             0.5555555555555556,
             "#d8576b"
            ],
            [
             0.6666666666666666,
             "#ed7953"
            ],
            [
             0.7777777777777778,
             "#fb9f3a"
            ],
            [
             0.8888888888888888,
             "#fdca26"
            ],
            [
             1,
             "#f0f921"
            ]
           ],
           "sequentialminus": [
            [
             0,
             "#0d0887"
            ],
            [
             0.1111111111111111,
             "#46039f"
            ],
            [
             0.2222222222222222,
             "#7201a8"
            ],
            [
             0.3333333333333333,
             "#9c179e"
            ],
            [
             0.4444444444444444,
             "#bd3786"
            ],
            [
             0.5555555555555556,
             "#d8576b"
            ],
            [
             0.6666666666666666,
             "#ed7953"
            ],
            [
             0.7777777777777778,
             "#fb9f3a"
            ],
            [
             0.8888888888888888,
             "#fdca26"
            ],
            [
             1,
             "#f0f921"
            ]
           ]
          },
          "colorway": [
           "#636efa",
           "#EF553B",
           "#00cc96",
           "#ab63fa",
           "#FFA15A",
           "#19d3f3",
           "#FF6692",
           "#B6E880",
           "#FF97FF",
           "#FECB52"
          ],
          "font": {
           "color": "#2a3f5f"
          },
          "geo": {
           "bgcolor": "white",
           "lakecolor": "white",
           "landcolor": "#E5ECF6",
           "showlakes": true,
           "showland": true,
           "subunitcolor": "white"
          },
          "hoverlabel": {
           "align": "left"
          },
          "hovermode": "closest",
          "mapbox": {
           "style": "light"
          },
          "paper_bgcolor": "white",
          "plot_bgcolor": "#E5ECF6",
          "polar": {
           "angularaxis": {
            "gridcolor": "white",
            "linecolor": "white",
            "ticks": ""
           },
           "bgcolor": "#E5ECF6",
           "radialaxis": {
            "gridcolor": "white",
            "linecolor": "white",
            "ticks": ""
           }
          },
          "scene": {
           "xaxis": {
            "backgroundcolor": "#E5ECF6",
            "gridcolor": "white",
            "gridwidth": 2,
            "linecolor": "white",
            "showbackground": true,
            "ticks": "",
            "zerolinecolor": "white"
           },
           "yaxis": {
            "backgroundcolor": "#E5ECF6",
            "gridcolor": "white",
            "gridwidth": 2,
            "linecolor": "white",
            "showbackground": true,
            "ticks": "",
            "zerolinecolor": "white"
           },
           "zaxis": {
            "backgroundcolor": "#E5ECF6",
            "gridcolor": "white",
            "gridwidth": 2,
            "linecolor": "white",
            "showbackground": true,
            "ticks": "",
            "zerolinecolor": "white"
           }
          },
          "shapedefaults": {
           "line": {
            "color": "#2a3f5f"
           }
          },
          "ternary": {
           "aaxis": {
            "gridcolor": "white",
            "linecolor": "white",
            "ticks": ""
           },
           "baxis": {
            "gridcolor": "white",
            "linecolor": "white",
            "ticks": ""
           },
           "bgcolor": "#E5ECF6",
           "caxis": {
            "gridcolor": "white",
            "linecolor": "white",
            "ticks": ""
           }
          },
          "title": {
           "x": 0.05
          },
          "xaxis": {
           "automargin": true,
           "gridcolor": "white",
           "linecolor": "white",
           "ticks": "",
           "title": {
            "standoff": 15
           },
           "zerolinecolor": "white",
           "zerolinewidth": 2
          },
          "yaxis": {
           "automargin": true,
           "gridcolor": "white",
           "linecolor": "white",
           "ticks": "",
           "title": {
            "standoff": 15
           },
           "zerolinecolor": "white",
           "zerolinewidth": 2
          }
         }
        }
       }
      }
     },
     "metadata": {},
     "output_type": "display_data"
    }
   ],
   "source": [
    "plot_signals(x, fs, t_start=0.02, t_end=0.04)"
   ]
  },
  {
   "cell_type": "markdown",
   "metadata": {
    "id": "mZNP0Xw9RFxX"
   },
   "source": [
    "It is also possible to plot several signals in the same figure:\n"
   ]
  },
  {
   "cell_type": "code",
   "execution_count": 21,
   "metadata": {
    "colab": {
     "base_uri": "https://localhost:8080/",
     "height": 541
    },
    "executionInfo": {
     "elapsed": 911,
     "status": "ok",
     "timestamp": 1633333662749,
     "user": {
      "displayName": "JUAN SEBASTIÁN GÓMEZ CAÑÓN",
      "photoUrl": "https://lh3.googleusercontent.com/a/default-user=s64",
      "userId": "18286075121967442723"
     },
     "user_tz": -120
    },
    "id": "Zl1CwmlnRM94",
    "outputId": "9c9e4fb7-ae02-442b-df5e-8359861420e6"
   },
   "outputs": [
    {
     "data": {
      "application/vnd.plotly.v1+json": {
       "config": {
        "linkText": "Export to plot.ly",
        "plotlyServerURL": "https://plot.ly",
        "showLink": false
       },
       "data": [
        {
         "line": {
          "color": "#1f77b4",
          "shape": "linear"
         },
         "mode": "lines",
         "name": "first signal",
         "type": "scatter",
         "x": {
          "bdata": "ZCCXshF8lD/uWyTJA4KUP3eXsd/1h5Q/AdM+9ueNlD+LDswM2pOUPxRKWSPMmZQ/noXmOb6flD8owXNQsKWUP7H8AGeiq5Q/OziOfZSxlD/FcxuUhreUP06vqKp4vZQ/2Oo1wWrDlD9iJsPXXMmUP+xhUO5Oz5Q/dZ3dBEHVlD//2GobM9uUP4kU+DEl4ZQ/ElCFSBfnlD+cixJfCe2UPybHn3X78pQ/rwItjO34lD85Prqi3/6UP8N5R7nRBJU/TLXUz8MKlT/W8GHmtRCVP2As7/ynFpU/6Wd8E5oclT9zowkqjCKVP/3elkB+KJU/hxokV3AulT8QVrFtYjSVP5qRPoRUOpU/JM3LmkZAlT+tCFmxOEaVPzdE5scqTJU/wX9z3hxSlT9KuwD1DliVP9T2jQsBXpU/XjIbIvNjlT/nbag45WmVP3GpNU/Xb5U/++TCZcl1lT+FIFB8u3uVPw5c3ZKtgZU/mJdqqZ+HlT8i0/e/kY2VP6sOhdaDk5U/NUoS7XWZlT+/hZ8DaJ+VP0jBLBpapZU/0vy5MEyrlT9cOEdHPrGVP+Vz1F0wt5U/b69hdCK9lT/56u6KFMOVP4MmfKEGyZU/DGIJuPjOlT+WnZbO6tSVPyDZI+Xc2pU/qRSx+87glT8zUD4SweaVP72Lyyiz7JU/RsdYP6XylT/QAuZVl/iVP1o+c2yJ/pU/43kAg3sElj9ttY2ZbQqWP/fwGrBfEJY/gSyoxlEWlj8KaDXdQxyWP5SjwvM1IpY/Ht9PCigolj+nGt0gGi6WPzFWajcMNJY/u5H3Tf45lj9EzYRk8D+WP84IEnviRZY/WESfkdRLlj/hfyyoxlGWP2u7ub64V5Y/9fZG1apdlj9/MtTrnGOWPwhuYQKPaZY/kqnuGIFvlj8c5Xsvc3WWP6UgCUZle5Y/L1yWXFeBlj+5lyNzSYeWP0LTsIk7jZY/zA4+oC2Tlj9WSsu2H5mWP9+FWM0Rn5Y/acHl4wOllj/z/HL69aqWP304ABHosJY/BnSNJ9q2lj+Qrxo+zLyWPxrrp1S+wpY/oyY1a7DIlj8tYsKBos6WP7edT5iU1JY/QNncrobalj/KFGrFeOCWP1RQ99tq5pY/3YuE8lzslj9nxxEJT/KWP/ECnx9B+JY/ej4sNjP+lj8EerlMJQSXP461RmMXCpc/GPHTeQkQlz+hLGGQ+xWXPyto7qbtG5c/taN7vd8hlz8+3wjU0SeXP8galurDLZc/UlYjAbYzlz/bkbAXqDmXP2XNPS6aP5c/7wjLRIxFlz94RFhbfkuXPwKA5XFwUZc/jLtyiGJXlz8W9/+eVF2XP58yjbVGY5c/KW4azDhplz+zqafiKm+XPzzlNPkcdZc/xiDCDw97lz9QXE8mAYGXP9mX3Dzzhpc/Y9NpU+WMlz/tDvdp15KXP3ZKhIDJmJc/AIYRl7uelz+KwZ6traSXPxT9K8Sfqpc/nTi52pGwlz8ndEbxg7aXP7Gv0wd2vJc/OutgHmjClz/EJu40WsiXP05ie0tMzpc/150IYj7Ulz9h2ZV4MNqXP+sUI48i4Jc/dFCwpRTmlz/+iz28BuyXP4jHytL48Zc/EgNY6er3lz+bPuX/3P2XPyV6chbPA5g/r7X/LMEJmD848YxDsw+YP8IsGlqlFZg/TGincJcbmD/VozSHiSGYP1/fwZ17J5g/6RpPtG0tmD9yVtzKXzOYP/yRaeFROZg/hs3290M/mD8QCYQONkWYP5lEESUoS5g/I4CeOxpRmD+tuytSDFeYPzb3uGj+XJg/wDJGf/BimD9KbtOV4miYP9OpYKzUbpg/XeXtwsZ0mD/nIHvZuHqYP3BcCPCqgJg/+peVBp2GmD+E0yIdj4yYPw4PsDOBkpg/l0o9SnOYmD8hhspgZZ6YP6vBV3dXpJg/NP3kjUmqmD++OHKkO7CYP0h0/7ottpg/0a+M0R+8mD9b6xnoEcKYP+Ump/4DyJg/bmI0FfbNmD/4ncEr6NOYP4LZTkLa2Zg/CxXcWMzfmD+VUGlvvuWYPx+M9oWw65g/qceDnKLxmD8yAxGzlPeYP7w+nsmG/Zg/Rnor4HgDmT/Ptbj2agmZP1nxRQ1dD5k/4yzTI08VmT9saGA6QRuZP/aj7VAzIZk/gN96ZyUnmT8JGwh+Fy2ZP5NWlZQJM5k/HZIiq/s4mT+nza/B7T6ZPzAJPdjfRJk/ukTK7tFKmT9EgFcFxFCZP8275Bu2Vpk/V/dxMqhcmT/hMv9ImmKZP2pujF+MaJk/9KkZdn5umT9+5aaMcHSZPwchNKNiepk/kVzBuVSAmT8bmE7QRoaZP6XT2+Y4jJk/Lg9p/SqSmT+4SvYTHZiZP0KGgyoPnpk/y8EQQQGkmT9V/Z1X86mZP984K27lr5k/aHS4hNe1mT/yr0WbybuZP3zr0rG7wZk/BSdgyK3HmT+PYu3en82ZPxmeevWR05k/o9kHDITZmT8sFZUidt+ZP7ZQIjlo5Zk/QIyvT1rrmT/JxzxmTPGZP1MDynw+95k/3T5XkzD9mT9meuSpIgOaP/C1ccAUCZo/evH+1gYPmj8DLYzt+BSaP41oGQTrGpo/F6SmGt0gmj+h3zMxzyaaPyobwUfBLJo/tFZOXrMymj8+ktt0pTiaP8fNaIuXPpo/UQn2oYlEmj/bRIO4e0qaP2SAEM9tUJo/7rud5V9Wmj949yr8UVyaPwEzuBJEYpo/i25FKTZomj8VqtI/KG6aP5/lX1YadJo/KCHtbAx6mj+yXHqD/n+aPzyYB5rwhZo/xdOUsOKLmj9PDyLH1JGaP9lKr93Gl5o/YoY89Lidmj/swckKq6OaP3b9ViGdqZo//zjkN4+vmj+JdHFOgbWaPxOw/mRzu5o/nOuLe2XBmj8mJxmSV8eaP7BipqhJzZo/Op4zvzvTmj/D2cDVLdmaP00VTuwf35o/11DbAhLlmj9gjGgZBOuaP+rH9S/28Jo/dAODRuj2mj/9PhBd2vyaP4d6nXPMAps/EbYqir4Imz+a8begsA6bPyQtRbeiFJs/rmjSzZQamz84pF/khiCbP8Hf7Pp4Jps/Sxt6EWssmz/VVgcoXTKbP16SlD5POJs/6M0hVUE+mz9yCa9rM0SbP/tEPIIlSps/hYDJmBdQmz8PvFavCVabP5j348X7W5s/IjNx3O1hmz+sbv7y32ebPzaqiwnSbZs/v+UYIMRzmz9JIaY2tnmbP9NcM02of5s/XJjAY5qFmz/m0016jIubP3AP25B+kZs/+Upop3CXmz+DhvW9Yp2bPw3CgtRUo5s/lv0P60apmz8gOZ0BOa+bP6p0KhgrtZs/NLC3Lh27mz+960RFD8GbP0cn0lsBx5s/0WJfcvPMmz9anuyI5dKbP+TZeZ/X2Js/bhUHtsnemz/3UJTMu+SbP4GMIeOt6ps/C8iu+Z/wmz+UAzwQkvabPx4/ySaE/Js/qHpWPXYCnD8ytuNTaAicP7vxcGpaDpw/RS3+gEwUnD/PaIuXPhqcP1ikGK4wIJw/4t+lxCImnD9sGzPbFCycP/VWwPEGMpw/f5JNCPk3nD8Jztoe6z2cP5IJaDXdQ5w/HEX1S89JnD+mgIJiwU+cPzC8D3mzVZw/ufecj6VbnD9DMyqml2GcP81ut7yJZ5w/VqpE03ttnD/g5dHpbXOcP2ohXwBgeZw/81zsFlJ/nD99mHktRIWcPwfUBkQ2i5w/kA+UWiiRnD8aSyFxGpecP6SGrocMnZw/LsI7nv6inD+3/ci08KicP0E5Vsvirpw/y3Tj4dS0nD9UsHD4xrqcP97r/Q65wJw/aCeLJavGnD/xYhg8ncycP3uepVKP0pw/BdoyaYHYnD+OFcB/c96cPxhRTZZl5Jw/oozarFfqnD8ryGfDSfCcP7UD9dk79pw/Pz+C8C38nD/Jeg8HIAKdP1K2nB0SCJ0/3PEpNAQOnT9mLbdK9hOdP+9oRGHoGZ0/eaTRd9ofnT8D4F6OzCWdP4wb7KS+K50/Fld5u7AxnT+gkgbSojedPynOk+iUPZ0/swkh/4ZDnT89Ra4VeUmdP8eAOyxrT50/ULzIQl1VnT/a91VZT1udP2Qz429BYZ0/7W5whjNnnT93qv2cJW2dPwHmirMXc50/iiEYygl5nT8UXaXg+36dP56YMvfthJ0/J9S/DeCKnT+xD00k0pCdPztL2jrElp0/xYZnUbacnT9OwvRnqKKdP9j9gX6aqJ0/YjkPlYyunT/rdJyrfrSdP3WwKcJwup0//+u22GLAnT+IJ0TvVMadPxJj0QVHzJ0/nJ5eHDnSnT8l2usyK9idP68VeUkd3p0/OVEGYA/knT/DjJN2AeqdP0zIII3z750/1gOuo+X1nT9gPzu61/udP+l6yNDJAZ4/c7ZV57sHnj/98eL9rQ2eP4YtcBSgE54/EGn9KpIZnj+apIpBhB+ePyPgF1h2JZ4/rRulbmgrnj83VzKFWjGeP8GSv5tMN54/Ss5Msj49nj/UCdrIMEOeP15FZ98iSZ4/54D09RRPnj9xvIEMB1WeP/v3DiP5Wp4/hDOcOetgnj8ObylQ3WaeP5iqtmbPbJ4/IeZDfcFynj+rIdGTs3iePzVdXqqlfp4/v5jrwJeEnj9I1HjXiYqeP9IPBu57kJ4/XEuTBG6Wnj/lhiAbYJyeP2/CrTFSop4/+f06SESonj+COcheNq6ePwx1VXUotJ4/lrDiixq6nj8f7G+iDMCeP6kn/bj+xZ4/M2OKz/DLnj+8nhfm4tGeP0bapPzU154/0BUyE8fdnj9aUb8pueOeP+OMTECr6Z4/bcjZVp3vnj/3A2dtj/WeP4A/9IOB+54/CnuBmnMBnz+Utg6xZQefPx3ym8dXDZ8/py0p3kkTnz8xabb0OxmfP7qkQwsuH58/RODQISAlnz/OG144EiufP1hX604EMZ8/4ZJ4ZfY2nz9rzgV86DyfP/UJk5LaQp8/fkUgqcxInz8Iga2/vk6fP5K8OtawVJ8/G/jH7KJanz+lM1UDlWCfPy9v4hmHZp8/uKpvMHlsnz9C5vxGa3KfP8whil1deJ8/Vl0XdE9+nz/fmKSKQYSfP2nUMaEzip8/8w+/tyWQnz98S0zOF5afPwaH2eQJnJ8/kMJm+/uhnz8Z/vMR7qefP6M5gSjgrZ8/LXUOP9Kznz+2sJtVxLmfP0DsKGy2v58/yie2gqjFnz9UY0OZmsufP92e0K+M0Z8/Z9pdxn7Xnz/xFevccN2fP3pRePNi458/BI0FClXpnz+OyJIgR++fPxcEIDc59Z8/oT+tTSv7nz+VPR2yjgCgP1rbY72HA6A/H3mqyIAGoD/kFvHTeQmgP6m0N99yDKA/blJ+6msPoD8y8MT1ZBKgP/eNCwFeFaA/vCtSDFcYoD+ByZgXUBugP0Zn3yJJHqA/CwUmLkIhoD/Qomw5OySgP5RAs0Q0J6A/Wd75Ty0qoD8efEBbJi2gP+MZh2YfMKA/qLfNcRgzoD9tVRR9ETagPzHzWogKOaA/9pChkwM8oD+7Luie/D6gP4DMLqr1QaA/RWp1te5EoD8KCLzA50egP8+lAszgSqA/k0NJ19lNoD9Y4Y/i0lCgPx1/1u3LU6A/4hwd+cRWoD+numMEvlmgP2xYqg+3XKA/MPbwGrBfoD/1kzcmqWKgP7oxfjGiZaA/f8/EPJtooD9EbQtIlGugPwkLUlONbqA/zqiYXoZxoD+SRt9pf3SgP1fkJXV4d6A/HIJsgHF6oD/hH7OLan2gP6a9+ZZjgKA/a1tAolyDoD8v+YatVYagP/SWzbhOiaA/uTQUxEeMoD9+0lrPQI+gP0Nwodo5kqA/CA7o5TKVoD/Nqy7xK5igP5FJdfwkm6A/Vue7Bx6eoD8bhQITF6GgP+AiSR4QpKA/pcCPKQmnoD9qXtY0AqqgPy78HED7rKA/85ljS/SvoD+4N6pW7bKgP33V8GHmtaA/QnM3bd+4oD8HEX542LugP8yuxIPRvqA/kEwLj8rBoD9V6lGaw8SgPxqImKW8x6A/3yXfsLXKoD+kwyW8rs2gP2lhbMen0KA/Lf+y0qDToD/ynPndmdagP7c6QOmS2aA/fNiG9IvcoD9Bds3/hN+gPwYUFAt+4qA/yrFaFnfloD+PT6EhcOigP1Tt5yxp66A/GYsuOGLuoD/eKHVDW/GgP6PGu05U9KA/aGQCWk33oD8sAkllRvqgP/Gfj3A//aA/tj3WezgAoT972xyHMQOhP0B5Y5IqBqE/BReqnSMJoT/JtPCoHAyhP45SN7QVD6E/U/B9vw4SoT8YjsTKBxWhP90rC9YAGKE/oslR4fkaoT9nZ5js8h2hPysF3/frIKE/8KIlA+UjoT+1QGwO3iahP3reshnXKaE/P3z5JNAsoT8EGkAwyS+hP8i3hjvCMqE/jVXNRrs1oT9S8xNStDihPxeRWl2tO6E/3C6haKY+oT+hzOdzn0GhP2ZqLn+YRKE/Kgh1ipFHoT/vpbuVikqhP7RDAqGDTaE/eeFIrHxQoT8+f4+3dVOhPwMd1sJuVqE/x7oczmdZoT+MWGPZYFyhP1H2qeRZX6E/FpTw71JioT/bMTf7S2WhP6DPfQZFaKE/ZW3EET5roT8pCwsdN26hP+6oUSgwcaE/s0aYMyl0oT945N4+InehPz2CJUobeqE/AiBsVRR9oT/GvbJgDYChP4tb+WsGg6E/UPk/d/+FoT8Vl4aC+IihP9o0zY3xi6E/n9ITmeqOoT9kcFqk45GhPygOoa/clKE/7avnutWXoT+ySS7GzpqhP3fndNHHnaE/PIW73MCgoT8BIwLouaOhP8XASPOypqE/il6P/qupoT9P/NUJpayhPxSaHBWer6E/2TdjIJeyoT+e1akrkLWhP2Nz8DaJuKE/JxE3QoK7oT/srn1Ne76hP7FMxFh0waE/duoKZG3EoT87iFFvZsehPwAmmHpfyqE/xMPehVjNoT+JYSWRUdChP07/a5xK06E/E52yp0PWoT/YOvmyPNmhP53YP7413KE/YnaGyS7foT8mFM3UJ+KhP+uxE+Ag5aE/sE9a6xnooT917aD2EuuhPzqL5wEM7qE//yguDQXxoT/DxnQY/vOhP4hkuyP39qE/TQICL/D5oT8SoEg66fyhP9c9j0Xi/6E/nNvVUNsCoj9heRxc1AWiPyUXY2fNCKI/6rSpcsYLoj+vUvB9vw6iP3TwNom4EaI/OY59lLEUoj/+K8SfqheiP8LJCqujGqI/h2dRtpwdoj9MBZjBlSCiPxGj3syOI6I/1kAl2Icmoj+b3mvjgCmiP2B8su55LKI/JBr5+XIvoj/ptz8FbDKiP65VhhBlNaI/c/PMG144oj84kRMnVzuiP/0uWjJQPqI/wcygPUlBoj+GaudIQkSiP0sILlQ7R6I/EKZ0XzRKoj/VQ7tqLU2iP5rhAXYmUKI/X39IgR9Toj8jHY+MGFaiP+i61ZcRWaI/rVgcowpcoj9y9mKuA1+iPzeUqbn8YaI//DHwxPVkoj/AzzbQ7meiP4VtfdvnaqI/SgvE5uBtoj8PqQry2XCiP9RGUf3Sc6I/meSXCMx2oj9egt4TxXmiPyIgJR++fKI/571rKrd/oj+sW7I1sIKiP3H5+ECphaI/Npc/TKKIoj/7NIZXm4uiP7/SzGKUjqI/hHATbo2Roj9JDlp5hpSiPw6soIR/l6I/00nnj3iaoj+Y5y2bcZ2iP12FdKZqoKI/ISO7sWOjoj/mwAG9XKaiP6teSMhVqaI/cPyO006soj81mtXeR6+iP/o3HOpAsqI/vtVi9Tm1oj+Dc6kAM7iiP0gR8Assu6I/Da82FyW+oj/STH0iHsGiP5fqwy0XxKI/XIgKORDHoj8gJlFECcqiP+XDl08CzaI/qmHeWvvPoj9v/yRm9NKiPzSda3Ht1aI/+TqyfObYoj+92PiH39uiP4J2P5PY3qI/RxSGntHhoj8MssypyuSiP9FPE7XD56I/lu1ZwLzqoj9ai6DLte2iPx8p59au8KI/5MYt4qfzoj+pZHTtoPaiP24Cu/iZ+aI/M6ABBJP8oj/4PUgPjP+iP7zbjhqFAqM/gXnVJX4Foz9GFxwxdwijPwu1YjxwC6M/0FKpR2kOoz+V8O9SYhGjP1mONl5bFKM/Hix9aVQXoz/jycN0TRqjP6hnCoBGHaM/bQVRiz8goz8yo5eWOCOjP/dA3qExJqM/u94krSopoz+AfGu4IyyjP0UassMcL6M/Crj4zhUyoz/PVT/aDjWjP5TzheUHOKM/WJHM8AA7oz8dLxP8+T2jP+LMWQfzQKM/p2qgEuxDoz9sCOcd5UajPzGmLSneSaM/9kN0NNdMoz+64bo/0E+jP39/AUvJUqM/RB1IVsJVoz8Ju45hu1ijP85Y1Wy0W6M/k/YbeK1eoz9XlGKDpmGjPxwyqY6fZKM/4c/vmZhnoz+mbTalkWqjP2sLfbCKbaM/MKnDu4Nwoz/1RgrHfHOjP7nkUNJ1dqM/foKX3W55oz9DIN7oZ3yjPwi+JPRgf6M/zVtr/1mCoz+S+bEKU4WjP1aX+BVMiKM/GzU/IUWLoz/g0oUsPo6jP6VwzDc3kaM/ag4TQzCUoz8vrFlOKZejP/RJoFkimqM/uOfmZBudoz99hS1wFKCjP0IjdHsNo6M/B8G6hgamoz/MXgGS/6ijP5H8R534q6M/VZqOqPGuoz8aONWz6rGjP9/VG7/jtKM/pHNiyty3oz9pEanV1bqjPy6v7+DOvaM/80w27MfAoz+36nz3wMOjP3yIwwK6xqM/QSYKDrPJoz8GxFAZrMyjP8thlySlz6M/kP/dL57Soz9UnSQ7l9WjPxk7a0aQ2KM/3tixUYnboz+jdvhcgt6jP2gUP2h74aM/LbKFc3Tkoz/yT8x+beejP7btEopm6qM/e4tZlV/toz9AKaCgWPCjPwXH5qtR86M/ymQtt0r2oz+PAnTCQ/mjP1Ogus08/KM/GD4B2TX/oz/d20fkLgKkP6J5ju8nBaQ/ZxfV+iAIpD8stRsGGgukP/FSYhETDqQ/tfCoHAwRpD96ju8nBRSkPz8sNjP+FqQ/BMp8PvcZpD/JZ8NJ8BykP44FClXpH6Q/UqNQYOIipD8XQZdr2yWkP9ze3XbUKKQ/oXwkgs0rpD9mGmuNxi6kPyu4sZi/MaQ/8FX4o7g0pD+08z6vsTekP3mRhbqqOqQ/Pi/MxaM9pD8DzRLRnECkP8hqWdyVQ6Q/jQig545GpD9Rpubyh0mkPxZELf6ATKQ/2+FzCXpPpD+gf7oUc1KkP2UdASBsVaQ/KrtHK2VYpD/vWI42XlukP7P21EFXXqQ/eJQbTVBhpD89MmJYSWSkPwLQqGNCZ6Q/x23vbjtqpD+MCzZ6NG2kP1CpfIUtcKQ/FUfDkCZzpD/a5AmcH3akP5+CUKcYeaQ/",
          "dtype": "f8"
         },
         "y": {
          "bdata": "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",
          "dtype": "f8"
         }
        },
        {
         "line": {
          "color": "#ff7f0e",
          "shape": "linear"
         },
         "mode": "lines",
         "name": "second signal",
         "type": "scatter",
         "x": {
          "bdata": "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",
          "dtype": "f8"
         },
         "y": {
          "bdata": "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",
          "dtype": "f8"
         }
        }
       ],
       "layout": {
        "template": {
         "data": {
          "bar": [
           {
            "error_x": {
             "color": "#2a3f5f"
            },
            "error_y": {
             "color": "#2a3f5f"
            },
            "marker": {
             "line": {
              "color": "#E5ECF6",
              "width": 0.5
             },
             "pattern": {
              "fillmode": "overlay",
              "size": 10,
              "solidity": 0.2
             }
            },
            "type": "bar"
           }
          ],
          "barpolar": [
           {
            "marker": {
             "line": {
              "color": "#E5ECF6",
              "width": 0.5
             },
             "pattern": {
              "fillmode": "overlay",
              "size": 10,
              "solidity": 0.2
             }
            },
            "type": "barpolar"
           }
          ],
          "carpet": [
           {
            "aaxis": {
             "endlinecolor": "#2a3f5f",
             "gridcolor": "white",
             "linecolor": "white",
             "minorgridcolor": "white",
             "startlinecolor": "#2a3f5f"
            },
            "baxis": {
             "endlinecolor": "#2a3f5f",
             "gridcolor": "white",
             "linecolor": "white",
             "minorgridcolor": "white",
             "startlinecolor": "#2a3f5f"
            },
            "type": "carpet"
           }
          ],
          "choropleth": [
           {
            "colorbar": {
             "outlinewidth": 0,
             "ticks": ""
            },
            "type": "choropleth"
           }
          ],
          "contour": [
           {
            "colorbar": {
             "outlinewidth": 0,
             "ticks": ""
            },
            "colorscale": [
             [
              0,
              "#0d0887"
             ],
             [
              0.1111111111111111,
              "#46039f"
             ],
             [
              0.2222222222222222,
              "#7201a8"
             ],
             [
              0.3333333333333333,
              "#9c179e"
             ],
             [
              0.4444444444444444,
              "#bd3786"
             ],
             [
              0.5555555555555556,
              "#d8576b"
             ],
             [
              0.6666666666666666,
              "#ed7953"
             ],
             [
              0.7777777777777778,
              "#fb9f3a"
             ],
             [
              0.8888888888888888,
              "#fdca26"
             ],
             [
              1,
              "#f0f921"
             ]
            ],
            "type": "contour"
           }
          ],
          "contourcarpet": [
           {
            "colorbar": {
             "outlinewidth": 0,
             "ticks": ""
            },
            "type": "contourcarpet"
           }
          ],
          "heatmap": [
           {
            "colorbar": {
             "outlinewidth": 0,
             "ticks": ""
            },
            "colorscale": [
             [
              0,
              "#0d0887"
             ],
             [
              0.1111111111111111,
              "#46039f"
             ],
             [
              0.2222222222222222,
              "#7201a8"
             ],
             [
              0.3333333333333333,
              "#9c179e"
             ],
             [
              0.4444444444444444,
              "#bd3786"
             ],
             [
              0.5555555555555556,
              "#d8576b"
             ],
             [
              0.6666666666666666,
              "#ed7953"
             ],
             [
              0.7777777777777778,
              "#fb9f3a"
             ],
             [
              0.8888888888888888,
              "#fdca26"
             ],
             [
              1,
              "#f0f921"
             ]
            ],
            "type": "heatmap"
           }
          ],
          "histogram": [
           {
            "marker": {
             "pattern": {
              "fillmode": "overlay",
              "size": 10,
              "solidity": 0.2
             }
            },
            "type": "histogram"
           }
          ],
          "histogram2d": [
           {
            "colorbar": {
             "outlinewidth": 0,
             "ticks": ""
            },
            "colorscale": [
             [
              0,
              "#0d0887"
             ],
             [
              0.1111111111111111,
              "#46039f"
             ],
             [
              0.2222222222222222,
              "#7201a8"
             ],
             [
              0.3333333333333333,
              "#9c179e"
             ],
             [
              0.4444444444444444,
              "#bd3786"
             ],
             [
              0.5555555555555556,
              "#d8576b"
             ],
             [
              0.6666666666666666,
              "#ed7953"
             ],
             [
              0.7777777777777778,
              "#fb9f3a"
             ],
             [
              0.8888888888888888,
              "#fdca26"
             ],
             [
              1,
              "#f0f921"
             ]
            ],
            "type": "histogram2d"
           }
          ],
          "histogram2dcontour": [
           {
            "colorbar": {
             "outlinewidth": 0,
             "ticks": ""
            },
            "colorscale": [
             [
              0,
              "#0d0887"
             ],
             [
              0.1111111111111111,
              "#46039f"
             ],
             [
              0.2222222222222222,
              "#7201a8"
             ],
             [
              0.3333333333333333,
              "#9c179e"
             ],
             [
              0.4444444444444444,
              "#bd3786"
             ],
             [
              0.5555555555555556,
              "#d8576b"
             ],
             [
              0.6666666666666666,
              "#ed7953"
             ],
             [
              0.7777777777777778,
              "#fb9f3a"
             ],
             [
              0.8888888888888888,
              "#fdca26"
             ],
             [
              1,
              "#f0f921"
             ]
            ],
            "type": "histogram2dcontour"
           }
          ],
          "mesh3d": [
           {
            "colorbar": {
             "outlinewidth": 0,
             "ticks": ""
            },
            "type": "mesh3d"
           }
          ],
          "parcoords": [
           {
            "line": {
             "colorbar": {
              "outlinewidth": 0,
              "ticks": ""
             }
            },
            "type": "parcoords"
           }
          ],
          "pie": [
           {
            "automargin": true,
            "type": "pie"
           }
          ],
          "scatter": [
           {
            "fillpattern": {
             "fillmode": "overlay",
             "size": 10,
             "solidity": 0.2
            },
            "type": "scatter"
           }
          ],
          "scatter3d": [
           {
            "line": {
             "colorbar": {
              "outlinewidth": 0,
              "ticks": ""
             }
            },
            "marker": {
             "colorbar": {
              "outlinewidth": 0,
              "ticks": ""
             }
            },
            "type": "scatter3d"
           }
          ],
          "scattercarpet": [
           {
            "marker": {
             "colorbar": {
              "outlinewidth": 0,
              "ticks": ""
             }
            },
            "type": "scattercarpet"
           }
          ],
          "scattergeo": [
           {
            "marker": {
             "colorbar": {
              "outlinewidth": 0,
              "ticks": ""
             }
            },
            "type": "scattergeo"
           }
          ],
          "scattergl": [
           {
            "marker": {
             "colorbar": {
              "outlinewidth": 0,
              "ticks": ""
             }
            },
            "type": "scattergl"
           }
          ],
          "scattermap": [
           {
            "marker": {
             "colorbar": {
              "outlinewidth": 0,
              "ticks": ""
             }
            },
            "type": "scattermap"
           }
          ],
          "scattermapbox": [
           {
            "marker": {
             "colorbar": {
              "outlinewidth": 0,
              "ticks": ""
             }
            },
            "type": "scattermapbox"
           }
          ],
          "scatterpolar": [
           {
            "marker": {
             "colorbar": {
              "outlinewidth": 0,
              "ticks": ""
             }
            },
            "type": "scatterpolar"
           }
          ],
          "scatterpolargl": [
           {
            "marker": {
             "colorbar": {
              "outlinewidth": 0,
              "ticks": ""
             }
            },
            "type": "scatterpolargl"
           }
          ],
          "scatterternary": [
           {
            "marker": {
             "colorbar": {
              "outlinewidth": 0,
              "ticks": ""
             }
            },
            "type": "scatterternary"
           }
          ],
          "surface": [
           {
            "colorbar": {
             "outlinewidth": 0,
             "ticks": ""
            },
            "colorscale": [
             [
              0,
              "#0d0887"
             ],
             [
              0.1111111111111111,
              "#46039f"
             ],
             [
              0.2222222222222222,
              "#7201a8"
             ],
             [
              0.3333333333333333,
              "#9c179e"
             ],
             [
              0.4444444444444444,
              "#bd3786"
             ],
             [
              0.5555555555555556,
              "#d8576b"
             ],
             [
              0.6666666666666666,
              "#ed7953"
             ],
             [
              0.7777777777777778,
              "#fb9f3a"
             ],
             [
              0.8888888888888888,
              "#fdca26"
             ],
             [
              1,
              "#f0f921"
             ]
            ],
            "type": "surface"
           }
          ],
          "table": [
           {
            "cells": {
             "fill": {
              "color": "#EBF0F8"
             },
             "line": {
              "color": "white"
             }
            },
            "header": {
             "fill": {
              "color": "#C8D4E3"
             },
             "line": {
              "color": "white"
             }
            },
            "type": "table"
           }
          ]
         },
         "layout": {
          "annotationdefaults": {
           "arrowcolor": "#2a3f5f",
           "arrowhead": 0,
           "arrowwidth": 1
          },
          "autotypenumbers": "strict",
          "coloraxis": {
           "colorbar": {
            "outlinewidth": 0,
            "ticks": ""
           }
          },
          "colorscale": {
           "diverging": [
            [
             0,
             "#8e0152"
            ],
            [
             0.1,
             "#c51b7d"
            ],
            [
             0.2,
             "#de77ae"
            ],
            [
             0.3,
             "#f1b6da"
            ],
            [
             0.4,
             "#fde0ef"
            ],
            [
             0.5,
             "#f7f7f7"
            ],
            [
             0.6,
             "#e6f5d0"
            ],
            [
             0.7,
             "#b8e186"
            ],
            [
             0.8,
             "#7fbc41"
            ],
            [
             0.9,
             "#4d9221"
            ],
            [
             1,
             "#276419"
            ]
           ],
           "sequential": [
            [
             0,
             "#0d0887"
            ],
            [
             0.1111111111111111,
             "#46039f"
            ],
            [
             0.2222222222222222,
             "#7201a8"
            ],
            [
             0.3333333333333333,
             "#9c179e"
            ],
            [
             0.4444444444444444,
             "#bd3786"
            ],
            [
             0.5555555555555556,
             "#d8576b"
            ],
            [
             0.6666666666666666,
             "#ed7953"
            ],
            [
             0.7777777777777778,
             "#fb9f3a"
            ],
            [
             0.8888888888888888,
             "#fdca26"
            ],
            [
             1,
             "#f0f921"
            ]
           ],
           "sequentialminus": [
            [
             0,
             "#0d0887"
            ],
            [
             0.1111111111111111,
             "#46039f"
            ],
            [
             0.2222222222222222,
             "#7201a8"
            ],
            [
             0.3333333333333333,
             "#9c179e"
            ],
            [
             0.4444444444444444,
             "#bd3786"
            ],
            [
             0.5555555555555556,
             "#d8576b"
            ],
            [
             0.6666666666666666,
             "#ed7953"
            ],
            [
             0.7777777777777778,
             "#fb9f3a"
            ],
            [
             0.8888888888888888,
             "#fdca26"
            ],
            [
             1,
             "#f0f921"
            ]
           ]
          },
          "colorway": [
           "#636efa",
           "#EF553B",
           "#00cc96",
           "#ab63fa",
           "#FFA15A",
           "#19d3f3",
           "#FF6692",
           "#B6E880",
           "#FF97FF",
           "#FECB52"
          ],
          "font": {
           "color": "#2a3f5f"
          },
          "geo": {
           "bgcolor": "white",
           "lakecolor": "white",
           "landcolor": "#E5ECF6",
           "showlakes": true,
           "showland": true,
           "subunitcolor": "white"
          },
          "hoverlabel": {
           "align": "left"
          },
          "hovermode": "closest",
          "mapbox": {
           "style": "light"
          },
          "paper_bgcolor": "white",
          "plot_bgcolor": "#E5ECF6",
          "polar": {
           "angularaxis": {
            "gridcolor": "white",
            "linecolor": "white",
            "ticks": ""
           },
           "bgcolor": "#E5ECF6",
           "radialaxis": {
            "gridcolor": "white",
            "linecolor": "white",
            "ticks": ""
           }
          },
          "scene": {
           "xaxis": {
            "backgroundcolor": "#E5ECF6",
            "gridcolor": "white",
            "gridwidth": 2,
            "linecolor": "white",
            "showbackground": true,
            "ticks": "",
            "zerolinecolor": "white"
           },
           "yaxis": {
            "backgroundcolor": "#E5ECF6",
            "gridcolor": "white",
            "gridwidth": 2,
            "linecolor": "white",
            "showbackground": true,
            "ticks": "",
            "zerolinecolor": "white"
           },
           "zaxis": {
            "backgroundcolor": "#E5ECF6",
            "gridcolor": "white",
            "gridwidth": 2,
            "linecolor": "white",
            "showbackground": true,
            "ticks": "",
            "zerolinecolor": "white"
           }
          },
          "shapedefaults": {
           "line": {
            "color": "#2a3f5f"
           }
          },
          "ternary": {
           "aaxis": {
            "gridcolor": "white",
            "linecolor": "white",
            "ticks": ""
           },
           "baxis": {
            "gridcolor": "white",
            "linecolor": "white",
            "ticks": ""
           },
           "bgcolor": "#E5ECF6",
           "caxis": {
            "gridcolor": "white",
            "linecolor": "white",
            "ticks": ""
           }
          },
          "title": {
           "x": 0.05
          },
          "xaxis": {
           "automargin": true,
           "gridcolor": "white",
           "linecolor": "white",
           "ticks": "",
           "title": {
            "standoff": 15
           },
           "zerolinecolor": "white",
           "zerolinewidth": 2
          },
          "yaxis": {
           "automargin": true,
           "gridcolor": "white",
           "linecolor": "white",
           "ticks": "",
           "title": {
            "standoff": 15
           },
           "zerolinecolor": "white",
           "zerolinewidth": 2
          }
         }
        }
       }
      }
     },
     "metadata": {},
     "output_type": "display_data"
    }
   ],
   "source": [
    "x1 = A * np.cos(2*np.pi*f0*t + phi)\n",
    "x2 = 0.1 * np.cos(2*np.pi*2*f0*t + phi)\n",
    "\n",
    "plot_signals([x1, x2], fs, t_start=0.02, t_end=0.04, name=['first signal', 'second signal'])"
   ]
  }
 ],
 "metadata": {
  "colab": {
   "name": "Lab0.ipynb",
   "provenance": []
  },
  "kernelspec": {
   "display_name": "sis",
   "language": "python",
   "name": "python3"
  },
  "language_info": {
   "codemirror_mode": {
    "name": "ipython",
    "version": 3
   },
   "file_extension": ".py",
   "mimetype": "text/x-python",
   "name": "python",
   "nbconvert_exporter": "python",
   "pygments_lexer": "ipython3",
   "version": "3.10.18"
  }
 },
 "nbformat": 4,
 "nbformat_minor": 0
}
